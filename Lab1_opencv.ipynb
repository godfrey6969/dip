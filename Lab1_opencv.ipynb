{
 "cells": [
  {
   "cell_type": "code",
   "execution_count": 2,
   "id": "edf2891b-f810-41ec-8221-df67c321199d",
   "metadata": {},
   "outputs": [
    {
     "name": "stdout",
     "output_type": "stream",
     "text": [
      "Defaulting to user installation because normal site-packages is not writeable\n",
      "Collecting opencv-python\n",
      "  Downloading opencv_python-4.10.0.84-cp37-abi3-manylinux_2_17_x86_64.manylinux2014_x86_64.whl (62.5 MB)\n",
      "\u001b[2K     \u001b[38;2;114;156;31m━━━━━━━━━━━━━━━━━━━━━━━━━━━━━━━━━━━━━━━━\u001b[0m \u001b[32m62.5/62.5 MB\u001b[0m \u001b[31m2.6 MB/s\u001b[0m eta \u001b[36m0:00:00\u001b[0mm eta \u001b[36m0:00:01\u001b[0m[36m0:00:01\u001b[0mm\n",
      "\u001b[?25hRequirement already satisfied: numpy>=1.17.0 in /home/student/.local/lib/python3.10/site-packages (from opencv-python) (1.26.4)\n",
      "Installing collected packages: opencv-python\n",
      "Successfully installed opencv-python-4.10.0.84\n"
     ]
    }
   ],
   "source": [
    "!pip install opencv-python"
   ]
  },
  {
   "cell_type": "code",
   "execution_count": 1,
   "id": "0996362e-b8de-4a74-bda6-9efa7be0169f",
   "metadata": {},
   "outputs": [],
   "source": [
    "import cv2"
   ]
  },
  {
   "cell_type": "code",
   "execution_count": 2,
   "id": "01f8e5a8-ad1a-42b9-8e49-4436aa0ea2d0",
   "metadata": {},
   "outputs": [],
   "source": [
    "img = cv2.imread(\"./build.jpeg\")"
   ]
  },
  {
   "cell_type": "code",
   "execution_count": 3,
   "id": "fbecd110-e15b-4f8e-941d-ea3685905e3c",
   "metadata": {},
   "outputs": [
    {
     "name": "stdout",
     "output_type": "stream",
     "text": [
      "(183, 275, 3)\n",
      "[[[ 63  26  22]\n",
      "  [ 48  13   9]\n",
      "  [ 30   0   0]\n",
      "  ...\n",
      "  [  6   4   3]\n",
      "  [ 39  33  34]\n",
      "  [ 10   2   3]]\n",
      "\n",
      " [[203 168 164]\n",
      "  [147 112 108]\n",
      "  [ 68  37  34]\n",
      "  ...\n",
      "  [  7   1   0]\n",
      "  [ 19   7   5]\n",
      "  [ 25  12  10]]\n",
      "\n",
      " [[133 101  96]\n",
      "  [ 49  19  14]\n",
      "  [115  86  82]\n",
      "  ...\n",
      "  [ 19   4   0]\n",
      "  [ 21   1   0]\n",
      "  [ 45  25  14]]\n",
      "\n",
      " ...\n",
      "\n",
      " [[134  94  65]\n",
      "  [ 91  54  26]\n",
      "  [118  84  60]\n",
      "  ...\n",
      "  [  2   1   0]\n",
      "  [  2   1   0]\n",
      "  [  2   1   0]]\n",
      "\n",
      " [[108  70  40]\n",
      "  [ 88  51  23]\n",
      "  [118  84  60]\n",
      "  ...\n",
      "  [  0   2   0]\n",
      "  [  0   1   0]\n",
      "  [  0   1   0]]\n",
      "\n",
      " [[ 94  57  29]\n",
      "  [113  78  52]\n",
      "  [ 79  47  24]\n",
      "  ...\n",
      "  [  0   1   0]\n",
      "  [  0   1   0]\n",
      "  [  0   0   1]]]\n"
     ]
    }
   ],
   "source": [
    "print(img.shape)\n",
    "print(img)"
   ]
  },
  {
   "cell_type": "code",
   "execution_count": 4,
   "id": "7d22a78e-54bf-4023-aaff-9b289aeb9518",
   "metadata": {},
   "outputs": [
    {
     "name": "stderr",
     "output_type": "stream",
     "text": [
      "Warning: Ignoring XDG_SESSION_TYPE=wayland on Gnome. Use QT_QPA_PLATFORM=wayland to run on Wayland anyway.\n"
     ]
    },
    {
     "data": {
      "text/plain": [
       "103"
      ]
     },
     "execution_count": 4,
     "metadata": {},
     "output_type": "execute_result"
    }
   ],
   "source": [
    "cv2.imshow('Building',img)\n",
    "cv2.waitKey(0)"
   ]
  },
  {
   "cell_type": "code",
   "execution_count": 5,
   "id": "a607ba68-3376-45e2-84dc-e085d227a774",
   "metadata": {},
   "outputs": [
    {
     "data": {
      "text/plain": [
       "114"
      ]
     },
     "execution_count": 5,
     "metadata": {},
     "output_type": "execute_result"
    }
   ],
   "source": [
    "gryImg = cv2.cvtColor(img,cv2.COLOR_BGR2GRAY)\n",
    "cv2.imshow('Gray Building',gryImg)\n",
    "cv2.waitKey(0)"
   ]
  },
  {
   "cell_type": "code",
   "execution_count": 12,
   "id": "2831510f-e4f5-4c11-b00c-a7688be51bfe",
   "metadata": {},
   "outputs": [
    {
     "data": {
      "text/plain": [
       "True"
      ]
     },
     "execution_count": 12,
     "metadata": {},
     "output_type": "execute_result"
    }
   ],
   "source": [
    "cv2.imwrite(\"gray-building.jpeg\",gryImg)"
   ]
  },
  {
   "cell_type": "code",
   "execution_count": 6,
   "id": "758c6dce-a039-44a7-ab9d-b8e5bb89866d",
   "metadata": {},
   "outputs": [],
   "source": [
    "b,g,r = cv2.split(img)"
   ]
  },
  {
   "cell_type": "code",
   "execution_count": 8,
   "id": "6e4e257d-ca91-4684-adc0-9c7f8c787447",
   "metadata": {},
   "outputs": [
    {
     "name": "stdout",
     "output_type": "stream",
     "text": [
      "[[ 63  48  30 ...   6  39  10]\n",
      " [203 147  68 ...   7  19  25]\n",
      " [133  49 115 ...  19  21  45]\n",
      " ...\n",
      " [134  91 118 ...   2   2   2]\n",
      " [108  88 118 ...   0   0   0]\n",
      " [ 94 113  79 ...   0   0   0]]\n",
      "[[ 26  13   0 ...   4  33   2]\n",
      " [168 112  37 ...   1   7  12]\n",
      " [101  19  86 ...   4   1  25]\n",
      " ...\n",
      " [ 94  54  84 ...   1   1   1]\n",
      " [ 70  51  84 ...   2   1   1]\n",
      " [ 57  78  47 ...   1   1   0]]\n",
      "[[ 22   9   0 ...   3  34   3]\n",
      " [164 108  34 ...   0   5  10]\n",
      " [ 96  14  82 ...   0   0  14]\n",
      " ...\n",
      " [ 65  26  60 ...   0   0   0]\n",
      " [ 40  23  60 ...   0   0   0]\n",
      " [ 29  52  24 ...   0   0   1]]\n"
     ]
    }
   ],
   "source": [
    "print(b)\n",
    "print(g)\n",
    "print(r)"
   ]
  },
  {
   "cell_type": "code",
   "execution_count": 9,
   "id": "80b3247f-cdce-4b2b-ad14-df6e9bf54a51",
   "metadata": {},
   "outputs": [
    {
     "data": {
      "text/plain": [
       "103"
      ]
     },
     "execution_count": 9,
     "metadata": {},
     "output_type": "execute_result"
    }
   ],
   "source": [
    "reImg = cv2.resize(img,(300,400))\n",
    "cv2.imshow('Resized Building',reImg)\n",
    "cv2.waitKey(0)"
   ]
  },
  {
   "cell_type": "code",
   "execution_count": 10,
   "id": "2ea7fef9-28fb-4680-a2a8-4856b9061e62",
   "metadata": {},
   "outputs": [
    {
     "data": {
      "text/plain": [
       "103"
      ]
     },
     "execution_count": 10,
     "metadata": {},
     "output_type": "execute_result"
    }
   ],
   "source": [
    "cropImg = reImg[200:300,200:400]\n",
    "cv2.imshow('Cropped Building',cropImg)\n",
    "cv2.waitKey(0)"
   ]
  },
  {
   "cell_type": "code",
   "execution_count": 9,
   "id": "54342132-8134-4b12-82ce-24c24c4076cf",
   "metadata": {},
   "outputs": [
    {
     "data": {
      "text/plain": [
       "32"
      ]
     },
     "execution_count": 9,
     "metadata": {},
     "output_type": "execute_result"
    }
   ],
   "source": [
    "rotImg = cv2.rotate(img,cv2.ROTATE_180)\n",
    "cv2.imshow('Rotated Building',rotImg)\n",
    "cv2.waitKey(0)"
   ]
  },
  {
   "cell_type": "code",
   "execution_count": 12,
   "id": "c1acb57c-ccc0-443c-ba39-44d84570bd90",
   "metadata": {},
   "outputs": [
    {
     "data": {
      "text/plain": [
       "102"
      ]
     },
     "execution_count": 12,
     "metadata": {},
     "output_type": "execute_result"
    }
   ],
   "source": [
    "conImg = cv2.convertScaleAbs(img,1.3,40)\n",
    "cv2.imshow('Contrast Building',conImg)\n",
    "cv2.waitKey(0)"
   ]
  },
  {
   "cell_type": "code",
   "execution_count": 4,
   "id": "a9651d33-2996-4cb6-928a-dcd0e0bf15cb",
   "metadata": {},
   "outputs": [
    {
     "name": "stderr",
     "output_type": "stream",
     "text": [
      "Warning: Ignoring XDG_SESSION_TYPE=wayland on Gnome. Use QT_QPA_PLATFORM=wayland to run on Wayland anyway.\n"
     ]
    },
    {
     "data": {
      "text/plain": [
       "103"
      ]
     },
     "execution_count": 4,
     "metadata": {},
     "output_type": "execute_result"
    }
   ],
   "source": [
    "output = img.copy()\n",
    "text = cv2.putText(output, 'Adyant', (100, 150),\n",
    "                cv2.FONT_HERSHEY_SIMPLEX, 0.5, (0, 255, 0), 2)\n",
    "\n",
    "cv2.imshow('Text Building',output)\n",
    "cv2.waitKey(0)"
   ]
  },
  {
   "cell_type": "code",
   "execution_count": 5,
   "id": "cb48635d-7aed-4976-99f2-53aa42b1c2ae",
   "metadata": {},
   "outputs": [
    {
     "data": {
      "text/plain": [
       "104"
      ]
     },
     "execution_count": 5,
     "metadata": {},
     "output_type": "execute_result"
    }
   ],
   "source": [
    "flipImg_0 = cv2.flip(output,0)\n",
    "cv2.imshow('Flip Building 0',flipImg_0)\n",
    "cv2.waitKey(0)"
   ]
  },
  {
   "cell_type": "code",
   "execution_count": 6,
   "id": "f234f94a-8030-4277-929f-26a21f47f8df",
   "metadata": {},
   "outputs": [
    {
     "data": {
      "text/plain": [
       "102"
      ]
     },
     "execution_count": 6,
     "metadata": {},
     "output_type": "execute_result"
    }
   ],
   "source": [
    "flipImg_1 = cv2.flip(output,1)\n",
    "cv2.imshow('Flip Building 1',flipImg_1)\n",
    "cv2.waitKey(0)"
   ]
  },
  {
   "cell_type": "code",
   "execution_count": 7,
   "id": "d0e2c51d-81b0-45d7-b4d1-bd92034e3913",
   "metadata": {},
   "outputs": [
    {
     "data": {
      "text/plain": [
       "102"
      ]
     },
     "execution_count": 7,
     "metadata": {},
     "output_type": "execute_result"
    }
   ],
   "source": [
    "flipImg_2 = cv2.flip(output,-1)\n",
    "cv2.imshow('Flip Building -1',flipImg_2)\n",
    "cv2.waitKey(0)"
   ]
  },
  {
   "cell_type": "code",
   "execution_count": null,
   "id": "f24bd404-dcff-4c77-be89-b5aa2628fe30",
   "metadata": {},
   "outputs": [],
   "source": []
  },
  {
   "cell_type": "code",
   "execution_count": null,
   "id": "7cb80b02-270c-4e19-aa57-dd1d7fc6cb56",
   "metadata": {},
   "outputs": [],
   "source": []
  },
  {
   "cell_type": "code",
   "execution_count": 10,
   "id": "8d57ea0b-2aeb-4153-a9cf-661b09817356",
   "metadata": {},
   "outputs": [],
   "source": [
    "img2 = cv2.imread(\"./build2.jpg\")\n",
    "img3 = cv2.imread(\"./build3.jpeg\")"
   ]
  },
  {
   "cell_type": "code",
   "execution_count": 15,
   "id": "5694e05c-627d-4962-ac91-4207e01aa7d5",
   "metadata": {},
   "outputs": [],
   "source": [
    "reImg2 = cv2.resize(img2,(500,500))\n",
    "reImg3 = cv2.resize(img3,(500,500))"
   ]
  },
  {
   "cell_type": "code",
   "execution_count": null,
   "id": "60e69aba-396f-49f3-bacc-fc7c0a46f621",
   "metadata": {},
   "outputs": [],
   "source": [
    "finalImg = cv2.addWeighted(reImg2,0.4,reImg3,0.7,0.4)\n",
    "cv2.imshow('Overlapped Building',finalImg)\n",
    "cv2.waitKey(0)\n",
    "cv2.destroyAllWindows()"
   ]
  },
  {
   "cell_type": "code",
   "execution_count": null,
   "id": "b09e01dd-8fdd-429e-8613-15c2b522b889",
   "metadata": {},
   "outputs": [],
   "source": []
  }
 ],
 "metadata": {
  "kernelspec": {
   "display_name": "Python 3 (ipykernel)",
   "language": "python",
   "name": "python3"
  },
  "language_info": {
   "codemirror_mode": {
    "name": "ipython",
    "version": 3
   },
   "file_extension": ".py",
   "mimetype": "text/x-python",
   "name": "python",
   "nbconvert_exporter": "python",
   "pygments_lexer": "ipython3",
   "version": "3.10.12"
  }
 },
 "nbformat": 4,
 "nbformat_minor": 5
}
