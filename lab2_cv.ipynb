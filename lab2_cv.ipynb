{
 "cells": [
  {
   "cell_type": "code",
   "execution_count": 1,
   "id": "66970bad-7584-4078-99c6-caad297da7b0",
   "metadata": {},
   "outputs": [],
   "source": [
    "import cv2\n",
    "import numpy as np\n",
    "import math"
   ]
  },
  {
   "cell_type": "code",
   "execution_count": 2,
   "id": "cf9ffeee-5de5-4da1-8277-9923ec0dd158",
   "metadata": {},
   "outputs": [],
   "source": [
    "img = cv2.imread(\"./build.jpeg\");    "
   ]
  },
  {
   "cell_type": "code",
   "execution_count": 3,
   "id": "3ad67ce9-83b4-4377-9a69-c03654e2f4bd",
   "metadata": {},
   "outputs": [
    {
     "name": "stderr",
     "output_type": "stream",
     "text": [
      "Warning: Ignoring XDG_SESSION_TYPE=wayland on Gnome. Use QT_QPA_PLATFORM=wayland to run on Wayland anyway.\n"
     ]
    }
   ],
   "source": [
    "cv2.imshow(\"Original Image : \",img)\n",
    "cv2.waitKey(0)\n",
    "cv2.destroyAllWindows()"
   ]
  },
  {
   "cell_type": "code",
   "execution_count": 4,
   "id": "4dcc1aae-b798-4a24-8877-8d863d1641d7",
   "metadata": {},
   "outputs": [],
   "source": [
    "def zoomImage(img,scale):\n",
    "    w,h,c = img.shape\n",
    "\n",
    "    newW = int(w * scale)\n",
    "    newH = int(h * scale)\n",
    "    newImg = np.zeros((newW,newH,c),dtype=img.dtype)\n",
    "\n",
    "    for ch in range(c):\n",
    "        for i in range(newW):\n",
    "            for j in range(newH):\n",
    "\n",
    "                newX = math.floor(i / scale)\n",
    "                newY = math.floor(j / scale)\n",
    "\n",
    "                newImg[i,j,ch] = img[newX,newY,ch]\n",
    "    return newImg "
   ]
  },
  {
   "cell_type": "code",
   "execution_count": 5,
   "id": "7d41b983-24d0-42b8-9431-e464b90fac5b",
   "metadata": {},
   "outputs": [],
   "source": [
    "zoomImg = zoomImage(img,2)"
   ]
  },
  {
   "cell_type": "code",
   "execution_count": 6,
   "id": "7fa6aa93-19ed-44a9-928d-43c9b731d991",
   "metadata": {},
   "outputs": [],
   "source": [
    "cv2.imshow(\"Zoomed Image : \",zoomImg)\n",
    "cv2.waitKey(0)\n",
    "cv2.destroyAllWindows()"
   ]
  },
  {
   "cell_type": "code",
   "execution_count": null,
   "id": "232aec9e-8ca4-4cb0-b7cf-cab198b09f9c",
   "metadata": {},
   "outputs": [],
   "source": []
  },
  {
   "cell_type": "code",
   "execution_count": null,
   "id": "f4641d37-78bd-4fe2-88b3-ea1739ac036e",
   "metadata": {},
   "outputs": [],
   "source": []
  },
  {
   "cell_type": "code",
   "execution_count": 7,
   "id": "053f185e-64f5-4b95-bc80-be8af5980647",
   "metadata": {},
   "outputs": [],
   "source": [
    "grayImg = cv2.imread(\"./gry.jpeg\")\n",
    "cv2.imshow(\"Original Gray Image : \",grayImg)\n",
    "cv2.waitKey(0)\n",
    "cv2.destroyAllWindows()"
   ]
  },
  {
   "cell_type": "code",
   "execution_count": 8,
   "id": "7839b609-a4a9-4ad2-ade4-ff4799c7cb6b",
   "metadata": {},
   "outputs": [],
   "source": [
    "def reduceImageBits(img,bits):\n",
    "    level = 2 ** bits;\n",
    "    newImg = np.floor(img / (256 / level)) * (256 / level)\n",
    "    return newImg.astype(np.uint8)"
   ]
  },
  {
   "cell_type": "code",
   "execution_count": 9,
   "id": "b7d51447-4de6-4dd0-bdb3-a45653488fe5",
   "metadata": {},
   "outputs": [],
   "source": [
    "newImg = reduceImageBits(grayImg,3)"
   ]
  },
  {
   "cell_type": "code",
   "execution_count": 10,
   "id": "4a19b414-5452-4d65-ac18-fb47da85e6fe",
   "metadata": {},
   "outputs": [],
   "source": [
    "cv2.imshow(\"Gray Image : \",newImg)\n",
    "cv2.waitKey(0)\n",
    "cv2.destroyAllWindows()"
   ]
  },
  {
   "cell_type": "code",
   "execution_count": null,
   "id": "4b1df0e1-6c32-4a96-bed5-6b60487c042b",
   "metadata": {},
   "outputs": [],
   "source": []
  }
 ],
 "metadata": {
  "kernelspec": {
   "display_name": "Python 3 (ipykernel)",
   "language": "python",
   "name": "python3"
  },
  "language_info": {
   "codemirror_mode": {
    "name": "ipython",
    "version": 3
   },
   "file_extension": ".py",
   "mimetype": "text/x-python",
   "name": "python",
   "nbconvert_exporter": "python",
   "pygments_lexer": "ipython3",
   "version": "3.10.12"
  }
 },
 "nbformat": 4,
 "nbformat_minor": 5
}
