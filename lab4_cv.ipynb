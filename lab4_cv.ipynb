{
 "cells": [
  {
   "cell_type": "code",
   "execution_count": 1,
   "id": "eca8dd09-de70-4863-86e9-2e74e3e98f55",
   "metadata": {},
   "outputs": [],
   "source": [
    "import cv2\n",
    "import numpy as np\n",
    "import matplotlib.pyplot as plt"
   ]
  },
  {
   "cell_type": "code",
   "execution_count": 2,
   "id": "80ae0f57-ff3f-4ec9-8233-1ab14cf8523c",
   "metadata": {},
   "outputs": [],
   "source": [
    "Img = cv2.imread(\"photo.jpg\")"
   ]
  },
  {
   "cell_type": "code",
   "execution_count": 3,
   "id": "e1a834d7-047b-4bc9-94f8-dcf8918c34a9",
   "metadata": {},
   "outputs": [],
   "source": [
    "img = cv2.cvtColor(Img,cv2.COLOR_BGR2GRAY)"
   ]
  },
  {
   "cell_type": "code",
   "execution_count": 4,
   "id": "a0b69cfc-ed44-40fc-a365-41360b380b53",
   "metadata": {},
   "outputs": [],
   "source": [
    "def BitPlaneSlicing(img):\n",
    "    lst = []\n",
    "    w,h = img.shape\n",
    "\n",
    "    for i in range(w):\n",
    "        for j in range(h):\n",
    "            lst.append(np.binary_repr(img[i][j],width=8))\n",
    "\n",
    "    bit8 = (np.array([int(i[0]) for i in lst],dtype = np.uint8) * 128).reshape(w,h)\n",
    "    bit7 = (np.array([int(i[1]) for i in lst],dtype = np.uint8) * 64).reshape(w,h)\n",
    "    bit6 = (np.array([int(i[2]) for i in lst],dtype = np.uint8) * 32).reshape(w,h)\n",
    "    bit5 = (np.array([int(i[3]) for i in lst],dtype = np.uint8) * 16).reshape(w,h)\n",
    "    bit4 = (np.array([int(i[4]) for i in lst],dtype = np.uint8) * 8).reshape(w,h)\n",
    "    bit3 = (np.array([int(i[5]) for i in lst],dtype = np.uint8) * 4).reshape(w,h)\n",
    "    bit2 = (np.array([int(i[6]) for i in lst],dtype = np.uint8) * 2).reshape(w,h)\n",
    "    bit1 = (np.array([int(i[7]) for i in lst],dtype = np.uint8) * 1).reshape(w,h)\n",
    "\n",
    "    catImg1 = cv2.hconcat([bit8,bit7,bit6,bit5])\n",
    "    catImg2 = cv2.hconcat([bit4,bit3,bit2,bit1])\n",
    "    \n",
    "    return catImg1 , catImg2"
   ]
  },
  {
   "cell_type": "code",
   "execution_count": 5,
   "id": "3619393f-f4d1-45a8-91f2-b9fe4f68f712",
   "metadata": {},
   "outputs": [],
   "source": [
    "bitImg1 , bitImg2 = BitPlaneSlicing(img)"
   ]
  },
  {
   "cell_type": "code",
   "execution_count": 6,
   "id": "d760ff4e-9aad-4969-a700-5bb7da209f6b",
   "metadata": {},
   "outputs": [
    {
     "name": "stderr",
     "output_type": "stream",
     "text": [
      "Warning: Ignoring XDG_SESSION_TYPE=wayland on Gnome. Use QT_QPA_PLATFORM=wayland to run on Wayland anyway.\n"
     ]
    }
   ],
   "source": [
    "cv2.imshow(\"Bit plane slicing : \",bitImg1)\n",
    "cv2.waitKey(0)\n",
    "cv2.destroyAllWindows()"
   ]
  },
  {
   "cell_type": "code",
   "execution_count": 7,
   "id": "8f10bec6-afcb-4850-b0f5-811bae5cfb24",
   "metadata": {},
   "outputs": [],
   "source": [
    "cv2.imshow(\"Bit plane slicing : \",bitImg2)\n",
    "cv2.waitKey(0)\n",
    "cv2.destroyAllWindows()"
   ]
  },
  {
   "cell_type": "code",
   "execution_count": null,
   "id": "2dd5f077-03f8-492e-8eb4-5d0ea0ca321b",
   "metadata": {},
   "outputs": [],
   "source": []
  },
  {
   "cell_type": "code",
   "execution_count": 8,
   "id": "aa6723c3-7595-409f-8cd2-1854498521d2",
   "metadata": {},
   "outputs": [],
   "source": [
    "def grayLevelSlicing(img):\n",
    "    w,h = img.shape\n",
    "    t1 = 80\n",
    "    t2 = 160\n",
    "\n",
    "    newImg = np.zeros((w,h),dtype=np.uint8)\n",
    "    for i in range(w):\n",
    "        for j in range(h):\n",
    "            if(img[i,j] >= 80 and img[i,j] <= 160):\n",
    "                newImg[i,j] = 255\n",
    "            else:\n",
    "                newImg[i,j] = img[i,j]\n",
    "\n",
    "    return newImg"
   ]
  },
  {
   "cell_type": "code",
   "execution_count": 9,
   "id": "2a864a3f-e8a7-46ae-b2f5-571689776e0a",
   "metadata": {},
   "outputs": [],
   "source": [
    "grayImg = grayLevelSlicing(img)\n",
    "cv2.imshow(\"Gray level slicing : \",grayImg)\n",
    "cv2.waitKey(0)\n",
    "cv2.destroyAllWindows()"
   ]
  },
  {
   "cell_type": "code",
   "execution_count": 10,
   "id": "20daeba4-298b-4944-9119-2d3c411f2268",
   "metadata": {},
   "outputs": [],
   "source": [
    "def histogram(img):\n",
    "    w,h = img.shape\n",
    "\n",
    "    vals = np.zeros(256)\n",
    "    for i in range(w):\n",
    "        for j in range(h):\n",
    "            vals[img[i,j]] += 1\n",
    "\n",
    "    return vals"
   ]
  },
  {
   "cell_type": "code",
   "execution_count": 11,
   "id": "27ec91dd-eb93-42ab-a05d-a7987a8f1bfe",
   "metadata": {},
   "outputs": [],
   "source": [
    "vals = histogram(img)\n",
    "y = list(range(256))"
   ]
  },
  {
   "cell_type": "code",
   "execution_count": 12,
   "id": "d986f9e1-2ead-45b5-877e-ca5cad60982c",
   "metadata": {},
   "outputs": [
    {
     "data": {
      "text/plain": [
       "<BarContainer object of 256 artists>"
      ]
     },
     "execution_count": 12,
     "metadata": {},
     "output_type": "execute_result"
    },
    {
     "data": {
      "image/png": "[encoded data removed]",
      "text/plain": [
       "<Figure size 640x480 with 1 Axes>"
      ]
     },
     "metadata": {},
     "output_type": "display_data"
    }
   ],
   "source": [
    "plt.bar(y,vals,30)"
   ]
  },
  {
   "cell_type": "code",
   "execution_count": null,
   "id": "10ae9b33-326b-476c-b57e-9cf7c3ddede6",
   "metadata": {},
   "outputs": [],
   "source": []
  },
  {
   "cell_type": "code",
   "execution_count": 13,
   "id": "0f25d7e4-51b1-4bb1-942f-d0161ab9edb6",
   "metadata": {},
   "outputs": [],
   "source": [
    "def histogramEqualized(img):\n",
    "    w,h = img.shape\n",
    "\n",
    "    vals = {}\n",
    "    for i in range(w):\n",
    "        for j in range(h):\n",
    "            val = img[i][j]\n",
    "            vals[val] = vals.get(val,0) + 1\n",
    "\n",
    "    prob = np.array(list(vals.values()),dtype=np.float64)\n",
    "    total = w * h\n",
    "    prob /= total\n",
    "\n",
    "    return dict(zip(vals.keys(),prob))"
   ]
  },
  {
   "cell_type": "code",
   "execution_count": 14,
   "id": "ab01a145-90c2-4a40-bc8b-17fa17cf2fcc",
   "metadata": {},
   "outputs": [
    {
     "data": {
      "text/plain": [
       "array([[207, 207, 207, ..., 176, 177, 178],\n",
       "       [207, 207, 207, ..., 176, 177, 178],\n",
       "       [207, 207, 207, ..., 177, 178, 178],\n",
       "       ...,\n",
       "       [  2,   2,   2, ...,  57,  58,  58],\n",
       "       [  2,   2,   2, ...,  56,  57,  57],\n",
       "       [  2,   2,   2, ...,  55,  55,  56]], dtype=uint8)"
      ]
     },
     "execution_count": 14,
     "metadata": {},
     "output_type": "execute_result"
    }
   ],
   "source": [
    "img"
   ]
  },
  {
   "cell_type": "code",
   "execution_count": 15,
   "id": "868badb8-52de-4995-b7ad-e5680d0ef799",
   "metadata": {},
   "outputs": [],
   "source": [
    "prob = histogramEqualized(img)"
   ]
  },
  {
   "cell_type": "code",
   "execution_count": 16,
   "id": "3c2d8fb6-8d8b-40b4-9b49-714ffab8d081",
   "metadata": {},
   "outputs": [
    {
     "data": {
      "image/png": "[encoded data removed]",
      "text/plain": [
       "<Figure size 640x480 with 1 Axes>"
      ]
     },
     "metadata": {},
     "output_type": "display_data"
    }
   ],
   "source": [
    "p = list(prob.values())\n",
    "cdf = [p[0]]\n",
    "for i in range(1,len(p)):\n",
    "    cdf.append(p[i] + cdf[i-1])\n",
    "\n",
    "plt.bar(prob.keys(),cdf,width=0.5)\n",
    "plt.show()"
   ]
  },
  {
   "cell_type": "code",
   "execution_count": null,
   "id": "0fce79c6-9726-4a52-afd3-e706bf1f6fa1",
   "metadata": {},
   "outputs": [],
   "source": []
  },
  {
   "cell_type": "code",
   "execution_count": null,
   "id": "e9fe54d9-dd88-4867-aebd-3119e3059b1f",
   "metadata": {},
   "outputs": [],
   "source": []
  }
 ],
 "metadata": {
  "kernelspec": {
   "display_name": "Python 3 (ipykernel)",
   "language": "python",
   "name": "python3"
  },
  "language_info": {
   "codemirror_mode": {
    "name": "ipython",
    "version": 3
   },
   "file_extension": ".py",
   "mimetype": "text/x-python",
   "name": "python",
   "nbconvert_exporter": "python",
   "pygments_lexer": "ipython3",
   "version": "3.10.12"
  }
 },
 "nbformat": 4,
 "nbformat_minor": 5
}
