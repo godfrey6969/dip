{
 "cells": [
  {
   "cell_type": "code",
   "execution_count": 1,
   "id": "003a01b6-1a7b-4365-8b9f-785d3dca8cf3",
   "metadata": {},
   "outputs": [],
   "source": [
    "import cv2\n",
    "import numpy as np"
   ]
  },
  {
   "cell_type": "code",
   "execution_count": 2,
   "id": "46d4bac4-f0e1-4af1-9389-dd3f22d9c57e",
   "metadata": {},
   "outputs": [],
   "source": [
    "img = cv2.imread(\"./photo.jpg\");"
   ]
  },
  {
   "cell_type": "code",
   "execution_count": 3,
   "id": "6fca758b-2c20-466a-a1ff-f37ccaa9d6cd",
   "metadata": {},
   "outputs": [
    {
     "data": {
      "text/plain": [
       "(768, 1024, 3)"
      ]
     },
     "execution_count": 3,
     "metadata": {},
     "output_type": "execute_result"
    }
   ],
   "source": [
    "img.shape"
   ]
  },
  {
   "cell_type": "code",
   "execution_count": 4,
   "id": "860a3c97-22e9-4c1d-9d62-55d0455e62c4",
   "metadata": {},
   "outputs": [],
   "source": [
    "Img = cv2.cvtColor(img,cv2.COLOR_BGR2GRAY)"
   ]
  },
  {
   "cell_type": "code",
   "execution_count": 5,
   "id": "4d5ede1f-bb1b-4d5e-9dba-49b4703204b6",
   "metadata": {},
   "outputs": [
    {
     "data": {
      "text/plain": [
       "(768, 1024)"
      ]
     },
     "execution_count": 5,
     "metadata": {},
     "output_type": "execute_result"
    }
   ],
   "source": [
    "Img.shape"
   ]
  },
  {
   "cell_type": "code",
   "execution_count": 6,
   "id": "790d9592-47a6-4627-b8db-964933f3ddc6",
   "metadata": {},
   "outputs": [
    {
     "name": "stderr",
     "output_type": "stream",
     "text": [
      "Warning: Ignoring XDG_SESSION_TYPE=wayland on Gnome. Use QT_QPA_PLATFORM=wayland to run on Wayland anyway.\n"
     ]
    }
   ],
   "source": [
    "cv2.imshow(\"Gray Scale Img : \",Img)\n",
    "cv2.waitKey(0)\n",
    "cv2.destroyAllWindows()"
   ]
  },
  {
   "cell_type": "code",
   "execution_count": 7,
   "id": "ae942f79-9086-4f19-abcf-158cda9bd007",
   "metadata": {},
   "outputs": [],
   "source": [
    "def imageNegative(img):\n",
    "    newImg = 255 - img\n",
    "\n",
    "    return newImg"
   ]
  },
  {
   "cell_type": "code",
   "execution_count": 8,
   "id": "2db78c89-e383-4b5f-a16d-397a0d4438ea",
   "metadata": {},
   "outputs": [],
   "source": [
    "negImg = imageNegative(Img)\n",
    "cv2.imshow(\"Negative Image : \",negImg)\n",
    "cv2.waitKey(0)\n",
    "cv2.destroyAllWindows()"
   ]
  },
  {
   "cell_type": "code",
   "execution_count": null,
   "id": "c3d5200a-a813-459f-804b-ceeefd13f2c8",
   "metadata": {},
   "outputs": [],
   "source": []
  },
  {
   "cell_type": "code",
   "execution_count": 9,
   "id": "2d015104-1e4a-4fb6-9b08-3bcc982e4218",
   "metadata": {},
   "outputs": [],
   "source": [
    "def LogarithmicImage(img):\n",
    "    imgF = img.astype(np.float32)\n",
    "    c = 255/(np.log(1 + np.max(imgF)))\n",
    "    newImg = c * np.log(1 + imgF)\n",
    "    newImg = np.array(newImg,dtype=np.uint8)\n",
    "    return newImg"
   ]
  },
  {
   "cell_type": "code",
   "execution_count": 10,
   "id": "8843be21-6b86-453e-b311-fa488bac7695",
   "metadata": {},
   "outputs": [],
   "source": [
    "logImg = LogarithmicImage(Img)"
   ]
  },
  {
   "cell_type": "code",
   "execution_count": 11,
   "id": "eadf8d4c-c178-4b2d-abb4-d90c592fcfe5",
   "metadata": {},
   "outputs": [],
   "source": [
    "cv2.imshow(\"Log Image : \",logImg)\n",
    "cv2.waitKey(0)\n",
    "cv2.destroyAllWindows()"
   ]
  },
  {
   "cell_type": "code",
   "execution_count": null,
   "id": "934081fa-6539-4084-95ce-c060bf59be64",
   "metadata": {},
   "outputs": [],
   "source": []
  },
  {
   "cell_type": "code",
   "execution_count": 12,
   "id": "0361884f-7308-43c2-be89-479e29186a1a",
   "metadata": {},
   "outputs": [],
   "source": [
    "def PowerLawTransformation(img,gamma):\n",
    "    newImg = np.array(255*(img/255)**gamma,dtype='uint8')\n",
    "    return newImg"
   ]
  },
  {
   "cell_type": "code",
   "execution_count": 13,
   "id": "45d59431-1fd3-48d4-8a68-2208e3d9a591",
   "metadata": {},
   "outputs": [],
   "source": [
    "pImg0_4 = PowerLawTransformation(Img,0.4)\n",
    "cv2.imshow(\"Power Law Transformation (gamma = 0.4) : \",pImg0_4)\n",
    "cv2.waitKey(0)\n",
    "cv2.destroyAllWindows()"
   ]
  },
  {
   "cell_type": "code",
   "execution_count": 14,
   "id": "2a0ee5d7-57e3-4341-9ba2-6e76612fae19",
   "metadata": {},
   "outputs": [],
   "source": [
    "pImg3_4 = PowerLawTransformation(Img,3.4)\n",
    "cv2.imshow(\"Power Law Transformation (gamma = 3.4) : \",pImg3_4)\n",
    "cv2.waitKey(0)\n",
    "cv2.destroyAllWindows()"
   ]
  },
  {
   "cell_type": "code",
   "execution_count": null,
   "id": "7ca22c60-0faa-4f1f-a5f7-0f3d4b799428",
   "metadata": {},
   "outputs": [],
   "source": []
  },
  {
   "cell_type": "code",
   "execution_count": 15,
   "id": "58f1e46a-5972-4806-a547-00ffef119c54",
   "metadata": {},
   "outputs": [],
   "source": [
    "def contrastStretching(img):\n",
    "    mn = np.min(img)\n",
    "    mx = np.max(img)\n",
    "    newImg = 255*(img-mn)/(mx - mn)\n",
    "    return newImg"
   ]
  },
  {
   "cell_type": "code",
   "execution_count": 16,
   "id": "a4230080-817c-48b1-9b9a-9f19840e49a3",
   "metadata": {},
   "outputs": [],
   "source": [
    "conImg = contrastStretching(negImg)\n",
    "cv2.imshow(\"Contrast Stretching : \",conImg)\n",
    "cv2.waitKey(0)\n",
    "cv2.destroyAllWindows()"
   ]
  },
  {
   "cell_type": "code",
   "execution_count": null,
   "id": "6994c646-35c7-4965-975b-f9cbffde45ea",
   "metadata": {},
   "outputs": [],
   "source": []
  },
  {
   "cell_type": "code",
   "execution_count": 17,
   "id": "7a4cdd0e-2b1f-4165-8383-6888d3dce0a5",
   "metadata": {},
   "outputs": [],
   "source": [
    "def ThresholdingImage(img,t):\n",
    "    w,h = img.shape\n",
    "    newImg = np.zeros((w,h))\n",
    "    for i in range(w):\n",
    "        for j in range(h):\n",
    "            newImg[i,j] = 255 if img[i,j] > t else 0\n",
    "\n",
    "    return newImg"
   ]
  },
  {
   "cell_type": "code",
   "execution_count": null,
   "id": "ee515971-1ced-4cf2-8e74-fd14f72d83d8",
   "metadata": {},
   "outputs": [],
   "source": [
    "thresImg = ThresholdingImage(Img,125)\n",
    "cv2.imshow(\"Thresholding : \",thresImg)\n",
    "cv2.waitKey(0)\n",
    "cv2.destroyAllWindows()"
   ]
  },
  {
   "cell_type": "code",
   "execution_count": null,
   "id": "6303135f-21ba-4a06-8789-e7a95f9300bd",
   "metadata": {},
   "outputs": [],
   "source": []
  }
 ],
 "metadata": {
  "kernelspec": {
   "display_name": "Python 3 (ipykernel)",
   "language": "python",
   "name": "python3"
  },
  "language_info": {
   "codemirror_mode": {
    "name": "ipython",
    "version": 3
   },
   "file_extension": ".py",
   "mimetype": "text/x-python",
   "name": "python",
   "nbconvert_exporter": "python",
   "pygments_lexer": "ipython3",
   "version": "3.10.12"
  }
 },
 "nbformat": 4,
 "nbformat_minor": 5
}
