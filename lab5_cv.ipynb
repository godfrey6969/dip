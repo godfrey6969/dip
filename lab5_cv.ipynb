{
 "cells": [
  {
   "cell_type": "code",
   "execution_count": 22,
   "id": "4d3d310c-95c2-4e94-be76-85642ccb33da",
   "metadata": {},
   "outputs": [],
   "source": [
    "import cv2\n",
    "import numpy as np\n",
    "import random\n",
    "from math import log10 , sqrt"
   ]
  },
  {
   "cell_type": "code",
   "execution_count": 2,
   "id": "aa3856c2-9d28-44ba-8b73-b0383073d3b0",
   "metadata": {},
   "outputs": [
    {
     "name": "stderr",
     "output_type": "stream",
     "text": [
      "Warning: Ignoring XDG_SESSION_TYPE=wayland on Gnome. Use QT_QPA_PLATFORM=wayland to run on Wayland anyway.\n"
     ]
    }
   ],
   "source": [
    "img = cv2.imread(\"photo.jpg\",0)\n",
    "cv2.imshow(\"Original Image : \",img)\n",
    "cv2.waitKey(0)\n",
    "cv2.destroyAllWindows()"
   ]
  },
  {
   "cell_type": "code",
   "execution_count": 3,
   "id": "4e14406b-5b56-4f15-ac2a-00c35dcef47f",
   "metadata": {},
   "outputs": [],
   "source": [
    "def saltPepperImage(img):\n",
    "    w,h = img.shape\n",
    "    pixels = random.randint(300,10000)\n",
    "    newImg = np.zeros([w,h])\n",
    "    for i in range(pixels):\n",
    "        x = random.randint(0,w-1)\n",
    "        y = random.randint(0,h-1)\n",
    "        img[x,y] = 255\n",
    "\n",
    "    for i in range(pixels):\n",
    "        x = random.randint(0,w-1)\n",
    "        y = random.randint(0,h-1)\n",
    "        img[x,y] = 0\n",
    "\n",
    "    return img"
   ]
  },
  {
   "cell_type": "code",
   "execution_count": 4,
   "id": "3101292f-72aa-4d10-9a29-358224a0c5a2",
   "metadata": {},
   "outputs": [],
   "source": [
    "img = saltPepperImage(img)\n",
    "cv2.imshow(\"Salt Pepper Image : \",img)\n",
    "cv2.waitKey(0)\n",
    "cv2.destroyAllWindows()"
   ]
  },
  {
   "cell_type": "code",
   "execution_count": null,
   "id": "047a2595-b8ee-4f31-9028-df3d9c9591b2",
   "metadata": {},
   "outputs": [],
   "source": []
  },
  {
   "cell_type": "code",
   "execution_count": 5,
   "id": "922120cb-14a8-4f86-84a0-964e7366ccaf",
   "metadata": {},
   "outputs": [],
   "source": [
    "def medianFiltering(img):\n",
    "    w,h = img.shape\n",
    "\n",
    "    newImg = np.zeros([w,h])\n",
    "    for i in range(1,w-1):\n",
    "        for j in range(1,h-1):\n",
    "            tmp = [img[i-1,j-1],img[i-1,j],img[i-1,j+1],img[i,j-1],img[i,j],img[i,j+1],img[i+1,j-1],img[i+1,j],img[i+1,j+1]]\n",
    "            tmp = sorted(tmp)\n",
    "            newImg[i,j] = tmp[4]\n",
    "\n",
    "    newImg = newImg.astype(np.uint8)\n",
    "    return newImg"
   ]
  },
  {
   "cell_type": "code",
   "execution_count": 6,
   "id": "e7feffa2-b33c-4df7-8fb5-7e0f010454b1",
   "metadata": {},
   "outputs": [],
   "source": [
    "medImg = medianFiltering(img)\n",
    "cv2.imshow(\"Median Filtering : \",medImg)\n",
    "cv2.waitKey(0)\n",
    "cv2.destroyAllWindows()"
   ]
  },
  {
   "cell_type": "code",
   "execution_count": null,
   "id": "cb777445-580c-4427-b52e-b01805b9b5d1",
   "metadata": {},
   "outputs": [],
   "source": []
  },
  {
   "cell_type": "code",
   "execution_count": 9,
   "id": "10bcfdc9-a123-4d88-84f4-3735d4879b86",
   "metadata": {},
   "outputs": [],
   "source": [
    "def averageFiltering(img):\n",
    "    w,h = img.shape\n",
    "    \n",
    "    mask = np.ones([3,3],dtype=int)\n",
    "    mask = mask / 9\n",
    "\n",
    "    newImg = np.zeros([w,h])\n",
    "    for i in range(1,w-1):\n",
    "        for j in range(1,h-1):\n",
    "            tmp = img[i-1, j-1]*mask[0, 0]+img[i-1, j]*mask[0, 1]+img[i-1, j + 1]*mask[0, 2]+img[i, j-1]*mask[1, 0]+ img[i, j]*mask[1, 1]+img[i, j + 1]*mask[1, 2]+img[i + 1, j-1]*mask[2, 0]+img[i + 1, j]*mask[2, 1]+img[i + 1, j + 1]*mask[2, 2]\n",
    "            newImg[i,j] = tmp\n",
    "\n",
    "    newImg = newImg.astype(np.uint8)\n",
    "    return newImg"
   ]
  },
  {
   "cell_type": "code",
   "execution_count": 10,
   "id": "5d692c9f-c8e0-4c5e-82d6-b95ce345f423",
   "metadata": {},
   "outputs": [],
   "source": [
    "avgImg = averageFiltering(img)\n",
    "cv2.imshow(\"Average Filtering : \",avgImg)\n",
    "cv2.waitKey(0)\n",
    "cv2.destroyAllWindows()"
   ]
  },
  {
   "cell_type": "code",
   "execution_count": null,
   "id": "012cc0b5-d253-4fc1-ac3a-4ee9c8e3fdc0",
   "metadata": {},
   "outputs": [],
   "source": []
  },
  {
   "cell_type": "code",
   "execution_count": 11,
   "id": "83693137-e184-4bf5-9da7-741211db1a76",
   "metadata": {},
   "outputs": [],
   "source": [
    "def gaussianFiltering(img):\n",
    "    w,h = img.shape\n",
    "\n",
    "    mask = np.array([[1,2,1],[2,4,2],[1,2,1]])\n",
    "    mask = mask / 16\n",
    "\n",
    "    newImg = np.zeros([w,h])\n",
    "    for i in range(1,w-1):\n",
    "        for j in range(1,h-1):\n",
    "            tmp = img[i-1, j-1]*mask[0, 0]+img[i-1, j]*mask[0, 1]+img[i-1, j + 1]*mask[0, 2]+img[i, j-1]*mask[1, 0]+ img[i, j]*mask[1, 1]+img[i, j + 1]*mask[1, 2]+img[i + 1, j-1]*mask[2, 0]+img[i + 1, j]*mask[2, 1]+img[i + 1, j + 1]*mask[2, 2]\n",
    "            newImg[i,j] = tmp\n",
    "\n",
    "    newImg = newImg.astype(np.uint8)\n",
    "    return newImg\n"
   ]
  },
  {
   "cell_type": "code",
   "execution_count": 12,
   "id": "fb1af27b-ea0f-4763-afee-4b934c347bd7",
   "metadata": {},
   "outputs": [],
   "source": [
    "gausImg = gaussianFiltering(img)\n",
    "cv2.imshow(\"Gaussian Filtering : \",gausImg)\n",
    "cv2.waitKey(0)\n",
    "cv2.destroyAllWindows()"
   ]
  },
  {
   "cell_type": "code",
   "execution_count": null,
   "id": "8e37d4e3-92a1-42dd-aecf-8d7d2a99c9c0",
   "metadata": {},
   "outputs": [],
   "source": []
  },
  {
   "cell_type": "code",
   "execution_count": 13,
   "id": "95db2882-4be2-4686-84c4-f72ad90cb7ff",
   "metadata": {},
   "outputs": [],
   "source": [
    "def weightedFiltering(img,weights):\n",
    "    w,h = img.shape\n",
    "\n",
    "    mask = np.zeros([w,h])\n",
    "    mask[0,0] = weights[0]\n",
    "    mask[0,1] = weights[1]\n",
    "    mask[0,2] = weights[2] \n",
    "    mask[1,0] = weights[3]\n",
    "    mask[1,1] = weights[4]\n",
    "    mask[1,2] = weights[5]\n",
    "    mask[2,0] = weights[6]\n",
    "    mask[2,1] = weights[7]\n",
    "    mask[2,2] = weights[8]\n",
    "    mask = mask/sum(weights)\n",
    "\n",
    "    newImg = np.zeros([w,h])\n",
    "    for i in range(1,w-1):\n",
    "        for j in range(1,h-1):\n",
    "            tmp = img[i-1, j-1]*mask[0, 0]+img[i-1, j]*mask[0, 1]+img[i-1, j + 1]*mask[0, 2]+img[i, j-1]*mask[1, 0]+ img[i, j]*mask[1, 1]+img[i, j + 1]*mask[1, 2]+img[i + 1, j-1]*mask[2, 0]+img[i + 1, j]*mask[2, 1]+img[i + 1, j + 1]*mask[2, 2]\n",
    "            newImg[i,j] = tmp\n",
    "\n",
    "    newImg = newImg.astype(np.uint8)\n",
    "    return newImg"
   ]
  },
  {
   "cell_type": "code",
   "execution_count": 14,
   "id": "b51f9133-88a3-46c4-9e85-97d7d8c255de",
   "metadata": {},
   "outputs": [],
   "source": [
    "weiImg = weightedFiltering(img,[0.0625,0.1250,0.0625,0.1250,0.2500,0.1250,0.0625,0.1250,0.0625])\n",
    "cv2.imshow(\"Weighted Image Filtering : \",weiImg)\n",
    "cv2.waitKey(0)\n",
    "cv2.destroyAllWindows()"
   ]
  },
  {
   "cell_type": "code",
   "execution_count": 25,
   "id": "4e41f3c2-af86-4838-a96c-0500cb84873e",
   "metadata": {},
   "outputs": [],
   "source": [
    "def PSNR(orgImg,filImg):\n",
    "    mse = np.mean((orgImg - filImg) ** 2)\n",
    "    if mse == 0:\n",
    "        return 100\n",
    "    L = 255.0\n",
    "    psnr = 20 * log10(L/sqrt(mse))\n",
    "    return psnr"
   ]
  },
  {
   "cell_type": "code",
   "execution_count": 29,
   "id": "eecde580-b974-4b09-b0ec-5ca47b3f1aa6",
   "metadata": {},
   "outputs": [
    {
     "name": "stdout",
     "output_type": "stream",
     "text": [
      "Average Filtering PSNR Value :  30.135029672192193\n",
      "Median Filtering PSNR Value :  31.31268327999358\n",
      "Weighted Average Filtering PSNR Value :  30.43751084662059\n",
      "Gaussian Filtering PSNR Value :  30.43751084662059\n"
     ]
    }
   ],
   "source": [
    "print(\"Average Filtering PSNR Value : \",PSNR(img,avgImg))\n",
    "print(\"Median Filtering PSNR Value : \",PSNR(img,medImg))\n",
    "print(\"Weighted Average Filtering PSNR Value : \",PSNR(img,weiImg))\n",
    "print(\"Gaussian Filtering PSNR Value : \",PSNR(img,gausImg))"
   ]
  },
  {
   "cell_type": "code",
   "execution_count": null,
   "id": "42e066a8-19b6-46b5-87a7-667a2e4389b0",
   "metadata": {},
   "outputs": [],
   "source": []
  },
  {
   "cell_type": "code",
   "execution_count": 33,
   "id": "4e92bfdc-1366-4ffd-99ed-e54d9985e048",
   "metadata": {},
   "outputs": [],
   "source": [
    "def MedianFiltering2(img,kernel):\n",
    "    w,h = img.shape\n",
    "    pad = kernel // 2\n",
    "\n",
    "    newImg = np.zeros([w,h])\n",
    "    for i in range(pad,w-pad):\n",
    "        for j in range(pad,h-pad):\n",
    "            if(img[i,j] == 0 or img[i,j] == 255):\n",
    "                tmp = img[i-pad:i+pad+1,j-pad:j+pad+1].flatten()\n",
    "                newImg[i,j] = np.median(tmp)\n",
    "            else:\n",
    "                newImg[i,j] = img[i,j]\n",
    "\n",
    "    newImg = newImg.astype(np.uint8)\n",
    "    return newImg"
   ]
  },
  {
   "cell_type": "code",
   "execution_count": 34,
   "id": "9778ac9b-e295-40af-a4cb-c98cc79501ab",
   "metadata": {},
   "outputs": [],
   "source": [
    "medImg2 = MedianFiltering2(img,3)\n",
    "cv2.imshow(\"Median Filtering Only on noisy pixels: \",medImg2)\n",
    "cv2.waitKey(0)\n",
    "cv2.destroyAllWindows()"
   ]
  },
  {
   "cell_type": "code",
   "execution_count": 35,
   "id": "86e55f78-91f7-431a-ad88-30f99e780191",
   "metadata": {},
   "outputs": [
    {
     "name": "stdout",
     "output_type": "stream",
     "text": [
      "Median Filtering 2 PSNR Value :  42.50240758555884\n"
     ]
    }
   ],
   "source": [
    "print(\"Median Filtering 2 PSNR Value : \",PSNR(img,medImg2))"
   ]
  },
  {
   "cell_type": "code",
   "execution_count": null,
   "id": "b1ba35ad-f76d-40b6-8e63-8349b9594b81",
   "metadata": {},
   "outputs": [],
   "source": []
  }
 ],
 "metadata": {
  "kernelspec": {
   "display_name": "Python 3 (ipykernel)",
   "language": "python",
   "name": "python3"
  },
  "language_info": {
   "codemirror_mode": {
    "name": "ipython",
    "version": 3
   },
   "file_extension": ".py",
   "mimetype": "text/x-python",
   "name": "python",
   "nbconvert_exporter": "python",
   "pygments_lexer": "ipython3",
   "version": "3.10.12"
  }
 },
 "nbformat": 4,
 "nbformat_minor": 5
}
